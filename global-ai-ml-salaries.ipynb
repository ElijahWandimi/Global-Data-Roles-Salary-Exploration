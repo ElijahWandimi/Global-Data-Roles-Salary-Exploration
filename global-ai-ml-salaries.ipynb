{
 "cells": [
  {
   "cell_type": "code",
   "execution_count": 1,
   "id": "cc9f7f8d",
   "metadata": {
    "_cell_guid": "b1076dfc-b9ad-4769-8c92-a6c4dae69d19",
    "_uuid": "8f2839f25d086af736a60e9eeb907d3b93b6e0e5",
    "execution": {
     "iopub.execute_input": "2023-11-14T15:38:45.093248Z",
     "iopub.status.busy": "2023-11-14T15:38:45.091242Z",
     "iopub.status.idle": "2023-11-14T15:38:47.798524Z",
     "shell.execute_reply": "2023-11-14T15:38:47.797047Z"
    },
    "papermill": {
     "duration": 2.72125,
     "end_time": "2023-11-14T15:38:47.802532",
     "exception": false,
     "start_time": "2023-11-14T15:38:45.081282",
     "status": "completed"
    },
    "tags": []
   },
   "outputs": [
    {
     "name": "stdout",
     "output_type": "stream",
     "text": [
      "/kaggle/input/global-salaries-in-ai-ml-data-science/salaries.json\n",
      "/kaggle/input/global-salaries-in-ai-ml-data-science/salaries.csv\n"
     ]
    }
   ],
   "source": [
    "# This Python 3 environment comes with many helpful analytics libraries installed\n",
    "# It is defined by the kaggle/python Docker image: https://github.com/kaggle/docker-python\n",
    "# For example, here's several helpful packages to load\n",
    "\n",
    "import numpy as np # linear algebra\n",
    "import pandas as pd # data processing, CSV file I/O (e.g. pd.read_csv)\n",
    "import matplotlib.pyplot as plt\n",
    "import seaborn as sns\n",
    "from IPython.display import Markdown\n",
    "\n",
    "import plotly.graph_objects as go\n",
    "from plotly.subplots import make_subplots\n",
    "\n",
    "%matplotlib inline\n",
    "plt.style.use('ggplot')\n",
    "\n",
    "# Input data files are available in the read-only \"../input/\" directory\n",
    "# For example, running this (by clicking run or pressing Shift+Enter) will list all files under the input directory\n",
    "\n",
    "import os\n",
    "for dirname, _, filenames in os.walk('/kaggle/input'):\n",
    "    for filename in filenames:\n",
    "        print(os.path.join(dirname, filename))\n",
    "\n",
    "# You can write up to 20GB to the current directory (/kaggle/working/) that gets preserved as output when you create a version using \"Save & Run All\" \n",
    "# You can also write temporary files to /kaggle/temp/, but they won't be saved outside of the current session"
   ]
  },
  {
   "cell_type": "markdown",
   "id": "5d523ca8",
   "metadata": {
    "papermill": {
     "duration": 0.008783,
     "end_time": "2023-11-14T15:38:47.819247",
     "exception": false,
     "start_time": "2023-11-14T15:38:47.810464",
     "status": "completed"
    },
    "tags": []
   },
   "source": [
    "#### Data Loading and Cleaning"
   ]
  },
  {
   "cell_type": "code",
   "execution_count": 2,
   "id": "8e1eaa00",
   "metadata": {
    "execution": {
     "iopub.execute_input": "2023-11-14T15:38:47.839086Z",
     "iopub.status.busy": "2023-11-14T15:38:47.838419Z",
     "iopub.status.idle": "2023-11-14T15:38:47.926136Z",
     "shell.execute_reply": "2023-11-14T15:38:47.924892Z"
    },
    "papermill": {
     "duration": 0.100764,
     "end_time": "2023-11-14T15:38:47.928889",
     "exception": false,
     "start_time": "2023-11-14T15:38:47.828125",
     "status": "completed"
    },
    "tags": []
   },
   "outputs": [
    {
     "data": {
      "text/plain": [
       "(8805, 11)"
      ]
     },
     "metadata": {},
     "output_type": "display_data"
    },
    {
     "data": {
      "text/html": [
       "<div>\n",
       "<style scoped>\n",
       "    .dataframe tbody tr th:only-of-type {\n",
       "        vertical-align: middle;\n",
       "    }\n",
       "\n",
       "    .dataframe tbody tr th {\n",
       "        vertical-align: top;\n",
       "    }\n",
       "\n",
       "    .dataframe thead th {\n",
       "        text-align: right;\n",
       "    }\n",
       "</style>\n",
       "<table border=\"1\" class=\"dataframe\">\n",
       "  <thead>\n",
       "    <tr style=\"text-align: right;\">\n",
       "      <th></th>\n",
       "      <th>work_year</th>\n",
       "      <th>experience_level</th>\n",
       "      <th>employment_type</th>\n",
       "      <th>job_title</th>\n",
       "      <th>salary</th>\n",
       "      <th>salary_currency</th>\n",
       "      <th>salary_in_usd</th>\n",
       "      <th>employee_residence</th>\n",
       "      <th>remote_ratio</th>\n",
       "      <th>company_location</th>\n",
       "      <th>company_size</th>\n",
       "    </tr>\n",
       "  </thead>\n",
       "  <tbody>\n",
       "    <tr>\n",
       "      <th>0</th>\n",
       "      <td>2023</td>\n",
       "      <td>EX</td>\n",
       "      <td>FT</td>\n",
       "      <td>Data Science Director</td>\n",
       "      <td>212000</td>\n",
       "      <td>USD</td>\n",
       "      <td>212000</td>\n",
       "      <td>US</td>\n",
       "      <td>0</td>\n",
       "      <td>US</td>\n",
       "      <td>M</td>\n",
       "    </tr>\n",
       "  </tbody>\n",
       "</table>\n",
       "</div>"
      ],
      "text/plain": [
       "   work_year experience_level employment_type              job_title  salary  \\\n",
       "0       2023               EX              FT  Data Science Director  212000   \n",
       "\n",
       "  salary_currency  salary_in_usd employee_residence  remote_ratio  \\\n",
       "0             USD         212000                 US             0   \n",
       "\n",
       "  company_location company_size  \n",
       "0               US            M  "
      ]
     },
     "execution_count": 2,
     "metadata": {},
     "output_type": "execute_result"
    }
   ],
   "source": [
    "# Read the data and show the number of datapoints and a preview\n",
    "csv_file = '/kaggle/input/global-salaries-in-ai-ml-data-science/salaries.csv'\n",
    "df = pd.read_csv(csv_file)\n",
    "display(df.shape)\n",
    "df.head(1)"
   ]
  },
  {
   "cell_type": "code",
   "execution_count": 3,
   "id": "44db37ae",
   "metadata": {
    "execution": {
     "iopub.execute_input": "2023-11-14T15:38:47.949077Z",
     "iopub.status.busy": "2023-11-14T15:38:47.948497Z",
     "iopub.status.idle": "2023-11-14T15:38:47.995666Z",
     "shell.execute_reply": "2023-11-14T15:38:47.993844Z"
    },
    "papermill": {
     "duration": 0.062243,
     "end_time": "2023-11-14T15:38:48.000482",
     "exception": false,
     "start_time": "2023-11-14T15:38:47.938239",
     "status": "completed"
    },
    "tags": []
   },
   "outputs": [
    {
     "name": "stdout",
     "output_type": "stream",
     "text": [
      "<class 'pandas.core.frame.DataFrame'>\n",
      "RangeIndex: 8805 entries, 0 to 8804\n",
      "Data columns (total 11 columns):\n",
      " #   Column              Non-Null Count  Dtype \n",
      "---  ------              --------------  ----- \n",
      " 0   work_year           8805 non-null   int64 \n",
      " 1   experience_level    8805 non-null   object\n",
      " 2   employment_type     8805 non-null   object\n",
      " 3   job_title           8805 non-null   object\n",
      " 4   salary              8805 non-null   int64 \n",
      " 5   salary_currency     8805 non-null   object\n",
      " 6   salary_in_usd       8805 non-null   int64 \n",
      " 7   employee_residence  8805 non-null   object\n",
      " 8   remote_ratio        8805 non-null   int64 \n",
      " 9   company_location    8805 non-null   object\n",
      " 10  company_size        8805 non-null   object\n",
      "dtypes: int64(4), object(7)\n",
      "memory usage: 756.8+ KB\n"
     ]
    }
   ],
   "source": [
    "# get the general overview of the data\n",
    "df.info()"
   ]
  },
  {
   "cell_type": "code",
   "execution_count": 4,
   "id": "317a52e9",
   "metadata": {
    "execution": {
     "iopub.execute_input": "2023-11-14T15:38:48.023486Z",
     "iopub.status.busy": "2023-11-14T15:38:48.022580Z",
     "iopub.status.idle": "2023-11-14T15:38:48.061022Z",
     "shell.execute_reply": "2023-11-14T15:38:48.058755Z"
    },
    "papermill": {
     "duration": 0.055234,
     "end_time": "2023-11-14T15:38:48.064539",
     "exception": false,
     "start_time": "2023-11-14T15:38:48.009305",
     "status": "completed"
    },
    "tags": []
   },
   "outputs": [
    {
     "data": {
      "text/plain": [
       "0"
      ]
     },
     "metadata": {},
     "output_type": "display_data"
    }
   ],
   "source": [
    "# check for nulls\n",
    "display(df.isna().any().sum())\n",
    "\n",
    "# drop duplicates\n",
    "df.drop_duplicates(inplace=True)"
   ]
  },
  {
   "cell_type": "code",
   "execution_count": 5,
   "id": "8648aade",
   "metadata": {
    "execution": {
     "iopub.execute_input": "2023-11-14T15:38:48.091526Z",
     "iopub.status.busy": "2023-11-14T15:38:48.091045Z",
     "iopub.status.idle": "2023-11-14T15:38:48.117058Z",
     "shell.execute_reply": "2023-11-14T15:38:48.114679Z"
    },
    "papermill": {
     "duration": 0.045098,
     "end_time": "2023-11-14T15:38:48.120686",
     "exception": false,
     "start_time": "2023-11-14T15:38:48.075588",
     "status": "completed"
    },
    "tags": []
   },
   "outputs": [],
   "source": [
    "# convert objects to category data type\n",
    "for col in df.columns:\n",
    "    if df[col].dtype == 'O':\n",
    "        df[col] = df[col].astype('category')"
   ]
  },
  {
   "cell_type": "code",
   "execution_count": 6,
   "id": "ece3f74c",
   "metadata": {
    "execution": {
     "iopub.execute_input": "2023-11-14T15:38:48.142285Z",
     "iopub.status.busy": "2023-11-14T15:38:48.141419Z",
     "iopub.status.idle": "2023-11-14T15:38:48.156081Z",
     "shell.execute_reply": "2023-11-14T15:38:48.154374Z"
    },
    "papermill": {
     "duration": 0.028327,
     "end_time": "2023-11-14T15:38:48.158776",
     "exception": false,
     "start_time": "2023-11-14T15:38:48.130449",
     "status": "completed"
    },
    "tags": []
   },
   "outputs": [
    {
     "name": "stdout",
     "output_type": "stream",
     "text": [
      "\t experience_level >> 4 levels\n",
      "\t employment_type >> 4 types\n",
      "\t job_title >> 124 titles\n",
      "\t salary_currency >> 22 currencys\n",
      "\t employee_residence >> 86 residences\n",
      "\t company_location >> 74 locations\n",
      "\t company_size >> 3 sizes\n"
     ]
    }
   ],
   "source": [
    "# number of unique values in the categories\n",
    "for col in df.columns:\n",
    "    if df[col].dtype == 'category':\n",
    "        print(f\"\\t {col} >> {df[col].nunique()} {col.split('_')[-1]}s\")"
   ]
  },
  {
   "cell_type": "code",
   "execution_count": 7,
   "id": "dff81e16",
   "metadata": {
    "execution": {
     "iopub.execute_input": "2023-11-14T15:38:48.177685Z",
     "iopub.status.busy": "2023-11-14T15:38:48.177222Z",
     "iopub.status.idle": "2023-11-14T15:38:48.199135Z",
     "shell.execute_reply": "2023-11-14T15:38:48.197891Z"
    },
    "papermill": {
     "duration": 0.035157,
     "end_time": "2023-11-14T15:38:48.202270",
     "exception": false,
     "start_time": "2023-11-14T15:38:48.167113",
     "status": "completed"
    },
    "tags": []
   },
   "outputs": [
    {
     "data": {
      "text/html": [
       "<div>\n",
       "<style scoped>\n",
       "    .dataframe tbody tr th:only-of-type {\n",
       "        vertical-align: middle;\n",
       "    }\n",
       "\n",
       "    .dataframe tbody tr th {\n",
       "        vertical-align: top;\n",
       "    }\n",
       "\n",
       "    .dataframe thead th {\n",
       "        text-align: right;\n",
       "    }\n",
       "</style>\n",
       "<table border=\"1\" class=\"dataframe\">\n",
       "  <thead>\n",
       "    <tr style=\"text-align: right;\">\n",
       "      <th></th>\n",
       "      <th>work_year</th>\n",
       "      <th>experience_level</th>\n",
       "      <th>employment_type</th>\n",
       "      <th>job_title</th>\n",
       "      <th>salary</th>\n",
       "      <th>salary_currency</th>\n",
       "      <th>salary_in_usd</th>\n",
       "      <th>employee_residence</th>\n",
       "      <th>remote_ratio</th>\n",
       "      <th>company_location</th>\n",
       "      <th>company_size</th>\n",
       "    </tr>\n",
       "  </thead>\n",
       "  <tbody>\n",
       "    <tr>\n",
       "      <th>8803</th>\n",
       "      <td>2020</td>\n",
       "      <td>EN</td>\n",
       "      <td>CT</td>\n",
       "      <td>Business Data Analyst</td>\n",
       "      <td>100000</td>\n",
       "      <td>USD</td>\n",
       "      <td>100000</td>\n",
       "      <td>US</td>\n",
       "      <td>100</td>\n",
       "      <td>US</td>\n",
       "      <td>L</td>\n",
       "    </tr>\n",
       "    <tr>\n",
       "      <th>8804</th>\n",
       "      <td>2021</td>\n",
       "      <td>SE</td>\n",
       "      <td>FT</td>\n",
       "      <td>Data Science Manager</td>\n",
       "      <td>7000000</td>\n",
       "      <td>INR</td>\n",
       "      <td>94665</td>\n",
       "      <td>IN</td>\n",
       "      <td>50</td>\n",
       "      <td>IN</td>\n",
       "      <td>L</td>\n",
       "    </tr>\n",
       "  </tbody>\n",
       "</table>\n",
       "</div>"
      ],
      "text/plain": [
       "      work_year experience_level employment_type              job_title  \\\n",
       "8803       2020               EN              CT  Business Data Analyst   \n",
       "8804       2021               SE              FT   Data Science Manager   \n",
       "\n",
       "       salary salary_currency  salary_in_usd employee_residence  remote_ratio  \\\n",
       "8803   100000             USD         100000                 US           100   \n",
       "8804  7000000             INR          94665                 IN            50   \n",
       "\n",
       "     company_location company_size  \n",
       "8803               US            L  \n",
       "8804               IN            L  "
      ]
     },
     "execution_count": 7,
     "metadata": {},
     "output_type": "execute_result"
    }
   ],
   "source": [
    "df.tail(2)"
   ]
  },
  {
   "cell_type": "markdown",
   "id": "7f6ac5b5",
   "metadata": {
    "papermill": {
     "duration": 0.008503,
     "end_time": "2023-11-14T15:38:48.219631",
     "exception": false,
     "start_time": "2023-11-14T15:38:48.211128",
     "status": "completed"
    },
    "tags": []
   },
   "source": [
    "#### Analysis"
   ]
  },
  {
   "cell_type": "code",
   "execution_count": 8,
   "id": "0f520e5b",
   "metadata": {
    "execution": {
     "iopub.execute_input": "2023-11-14T15:38:48.240052Z",
     "iopub.status.busy": "2023-11-14T15:38:48.239288Z",
     "iopub.status.idle": "2023-11-14T15:38:48.245711Z",
     "shell.execute_reply": "2023-11-14T15:38:48.244725Z"
    },
    "papermill": {
     "duration": 0.020113,
     "end_time": "2023-11-14T15:38:48.248268",
     "exception": false,
     "start_time": "2023-11-14T15:38:48.228155",
     "status": "completed"
    },
    "tags": []
   },
   "outputs": [],
   "source": [
    "# util functions\n",
    "def get_value_range(col: str):\n",
    "    \"\"\"\n",
    "    params: col: str - the column name\n",
    "    return: an f-string of the min and max values of the column\n",
    "    \"\"\"\n",
    "    return f\"{df[col].min()} - {df[col].max()}\""
   ]
  },
  {
   "cell_type": "code",
   "execution_count": 9,
   "id": "cee0557e",
   "metadata": {
    "execution": {
     "iopub.execute_input": "2023-11-14T15:38:48.268755Z",
     "iopub.status.busy": "2023-11-14T15:38:48.267991Z",
     "iopub.status.idle": "2023-11-14T15:38:48.275081Z",
     "shell.execute_reply": "2023-11-14T15:38:48.273694Z"
    },
    "papermill": {
     "duration": 0.020601,
     "end_time": "2023-11-14T15:38:48.277302",
     "exception": false,
     "start_time": "2023-11-14T15:38:48.256701",
     "status": "completed"
    },
    "tags": []
   },
   "outputs": [
    {
     "name": "stdout",
     "output_type": "stream",
     "text": [
      "Years: 2020 - 2023 \n",
      "Salary (USD): 15000 - 615201\n"
     ]
    }
   ],
   "source": [
    "# year range, salary range (USD)\n",
    "print(f\"Years: {get_value_range('work_year')} \\nSalary (USD): {get_value_range('salary_in_usd')}\")"
   ]
  },
  {
   "cell_type": "code",
   "execution_count": 10,
   "id": "f8657a31",
   "metadata": {
    "execution": {
     "iopub.execute_input": "2023-11-14T15:38:48.297102Z",
     "iopub.status.busy": "2023-11-14T15:38:48.295835Z",
     "iopub.status.idle": "2023-11-14T15:38:48.362977Z",
     "shell.execute_reply": "2023-11-14T15:38:48.361448Z"
    },
    "papermill": {
     "duration": 0.080206,
     "end_time": "2023-11-14T15:38:48.366111",
     "exception": false,
     "start_time": "2023-11-14T15:38:48.285905",
     "status": "completed"
    },
    "tags": []
   },
   "outputs": [
    {
     "data": {
      "text/markdown": [
       " ### 10 highest paying jobs"
      ],
      "text/plain": [
       "<IPython.core.display.Markdown object>"
      ]
     },
     "metadata": {},
     "output_type": "display_data"
    },
    {
     "data": {
      "text/html": [
       "<div>\n",
       "<style scoped>\n",
       "    .dataframe tbody tr th:only-of-type {\n",
       "        vertical-align: middle;\n",
       "    }\n",
       "\n",
       "    .dataframe tbody tr th {\n",
       "        vertical-align: top;\n",
       "    }\n",
       "\n",
       "    .dataframe thead th {\n",
       "        text-align: right;\n",
       "    }\n",
       "</style>\n",
       "<table border=\"1\" class=\"dataframe\">\n",
       "  <thead>\n",
       "    <tr style=\"text-align: right;\">\n",
       "      <th></th>\n",
       "      <th>0</th>\n",
       "      <th>1</th>\n",
       "      <th>2</th>\n",
       "      <th>3</th>\n",
       "      <th>4</th>\n",
       "      <th>5</th>\n",
       "      <th>6</th>\n",
       "      <th>7</th>\n",
       "      <th>8</th>\n",
       "      <th>9</th>\n",
       "    </tr>\n",
       "  </thead>\n",
       "  <tbody>\n",
       "    <tr>\n",
       "      <th>job_title</th>\n",
       "      <td>Business Intelligence Consultant</td>\n",
       "      <td>AI Scientist</td>\n",
       "      <td>Principal Data Scientist</td>\n",
       "      <td>Data Analytics Lead</td>\n",
       "      <td>Analytics Engineering Manager</td>\n",
       "      <td>Data Science Tech Lead</td>\n",
       "      <td>Finance Data Analyst</td>\n",
       "      <td>Managing Director Data Science</td>\n",
       "      <td>AI Engineer</td>\n",
       "      <td>Director of Data Science</td>\n",
       "    </tr>\n",
       "    <tr>\n",
       "      <th>company_location</th>\n",
       "      <td>IN</td>\n",
       "      <td>IL</td>\n",
       "      <td>US</td>\n",
       "      <td>US</td>\n",
       "      <td>GB</td>\n",
       "      <td>US</td>\n",
       "      <td>US</td>\n",
       "      <td>US</td>\n",
       "      <td>QA</td>\n",
       "      <td>US</td>\n",
       "    </tr>\n",
       "    <tr>\n",
       "      <th>company_size</th>\n",
       "      <td>S</td>\n",
       "      <td>L</td>\n",
       "      <td>S</td>\n",
       "      <td>L</td>\n",
       "      <td>L</td>\n",
       "      <td>L</td>\n",
       "      <td>M</td>\n",
       "      <td>L</td>\n",
       "      <td>M</td>\n",
       "      <td>L</td>\n",
       "    </tr>\n",
       "    <tr>\n",
       "      <th>salary_in_usd</th>\n",
       "      <td>615201.0</td>\n",
       "      <td>417937.0</td>\n",
       "      <td>416000.0</td>\n",
       "      <td>405000.0</td>\n",
       "      <td>399880.0</td>\n",
       "      <td>375000.0</td>\n",
       "      <td>323905.0</td>\n",
       "      <td>300000.0</td>\n",
       "      <td>300000.0</td>\n",
       "      <td>287500.0</td>\n",
       "    </tr>\n",
       "  </tbody>\n",
       "</table>\n",
       "</div>"
      ],
      "text/plain": [
       "                                                 0             1  \\\n",
       "job_title         Business Intelligence Consultant  AI Scientist   \n",
       "company_location                                IN            IL   \n",
       "company_size                                     S             L   \n",
       "salary_in_usd                             615201.0      417937.0   \n",
       "\n",
       "                                         2                    3  \\\n",
       "job_title         Principal Data Scientist  Data Analytics Lead   \n",
       "company_location                        US                   US   \n",
       "company_size                             S                    L   \n",
       "salary_in_usd                     416000.0             405000.0   \n",
       "\n",
       "                                              4                       5  \\\n",
       "job_title         Analytics Engineering Manager  Data Science Tech Lead   \n",
       "company_location                             GB                      US   \n",
       "company_size                                  L                       L   \n",
       "salary_in_usd                          399880.0                375000.0   \n",
       "\n",
       "                                     6                               7  \\\n",
       "job_title         Finance Data Analyst  Managing Director Data Science   \n",
       "company_location                    US                              US   \n",
       "company_size                         M                               L   \n",
       "salary_in_usd                 323905.0                        300000.0   \n",
       "\n",
       "                            8                         9  \n",
       "job_title         AI Engineer  Director of Data Science  \n",
       "company_location           QA                        US  \n",
       "company_size                M                         L  \n",
       "salary_in_usd        300000.0                  287500.0  "
      ]
     },
     "metadata": {},
     "output_type": "display_data"
    },
    {
     "data": {
      "text/markdown": [
       " ### 10 least paying jobs"
      ],
      "text/plain": [
       "<IPython.core.display.Markdown object>"
      ]
     },
     "metadata": {},
     "output_type": "display_data"
    },
    {
     "data": {
      "text/html": [
       "<div>\n",
       "<style scoped>\n",
       "    .dataframe tbody tr th:only-of-type {\n",
       "        vertical-align: middle;\n",
       "    }\n",
       "\n",
       "    .dataframe tbody tr th {\n",
       "        vertical-align: top;\n",
       "    }\n",
       "\n",
       "    .dataframe thead th {\n",
       "        text-align: right;\n",
       "    }\n",
       "</style>\n",
       "<table border=\"1\" class=\"dataframe\">\n",
       "  <thead>\n",
       "    <tr style=\"text-align: right;\">\n",
       "      <th></th>\n",
       "      <th>588</th>\n",
       "      <th>589</th>\n",
       "      <th>590</th>\n",
       "      <th>591</th>\n",
       "      <th>592</th>\n",
       "      <th>593</th>\n",
       "      <th>594</th>\n",
       "      <th>595</th>\n",
       "      <th>596</th>\n",
       "      <th>597</th>\n",
       "    </tr>\n",
       "  </thead>\n",
       "  <tbody>\n",
       "    <tr>\n",
       "      <th>job_title</th>\n",
       "      <td>Product Data Analyst</td>\n",
       "      <td>Data Scientist</td>\n",
       "      <td>ML Engineer</td>\n",
       "      <td>Computer Vision Engineer</td>\n",
       "      <td>Data Analyst</td>\n",
       "      <td>Data Analyst</td>\n",
       "      <td>Business Intelligence Developer</td>\n",
       "      <td>Data Analyst</td>\n",
       "      <td>Staff Data Analyst</td>\n",
       "      <td>Machine Learning Developer</td>\n",
       "    </tr>\n",
       "    <tr>\n",
       "      <th>company_location</th>\n",
       "      <td>IN</td>\n",
       "      <td>EC</td>\n",
       "      <td>DE</td>\n",
       "      <td>IN</td>\n",
       "      <td>IN</td>\n",
       "      <td>PH</td>\n",
       "      <td>GH</td>\n",
       "      <td>ID</td>\n",
       "      <td>CA</td>\n",
       "      <td>TH</td>\n",
       "    </tr>\n",
       "    <tr>\n",
       "      <th>company_size</th>\n",
       "      <td>L</td>\n",
       "      <td>L</td>\n",
       "      <td>S</td>\n",
       "      <td>M</td>\n",
       "      <td>S</td>\n",
       "      <td>L</td>\n",
       "      <td>M</td>\n",
       "      <td>L</td>\n",
       "      <td>M</td>\n",
       "      <td>L</td>\n",
       "    </tr>\n",
       "    <tr>\n",
       "      <th>salary_in_usd</th>\n",
       "      <td>16417.0</td>\n",
       "      <td>16000.0</td>\n",
       "      <td>15966.0</td>\n",
       "      <td>15897.0</td>\n",
       "      <td>15809.0</td>\n",
       "      <td>15680.0</td>\n",
       "      <td>15000.0</td>\n",
       "      <td>15000.0</td>\n",
       "      <td>15000.0</td>\n",
       "      <td>15000.0</td>\n",
       "    </tr>\n",
       "  </tbody>\n",
       "</table>\n",
       "</div>"
      ],
      "text/plain": [
       "                                   588             589          590  \\\n",
       "job_title         Product Data Analyst  Data Scientist  ML Engineer   \n",
       "company_location                    IN              EC           DE   \n",
       "company_size                         L               L            S   \n",
       "salary_in_usd                  16417.0         16000.0      15966.0   \n",
       "\n",
       "                                       591           592           593  \\\n",
       "job_title         Computer Vision Engineer  Data Analyst  Data Analyst   \n",
       "company_location                        IN            IN            PH   \n",
       "company_size                             M             S             L   \n",
       "salary_in_usd                      15897.0       15809.0       15680.0   \n",
       "\n",
       "                                              594           595  \\\n",
       "job_title         Business Intelligence Developer  Data Analyst   \n",
       "company_location                               GH            ID   \n",
       "company_size                                    M             L   \n",
       "salary_in_usd                             15000.0       15000.0   \n",
       "\n",
       "                                 596                         597  \n",
       "job_title         Staff Data Analyst  Machine Learning Developer  \n",
       "company_location                  CA                          TH  \n",
       "company_size                       M                           L  \n",
       "salary_in_usd                15000.0                     15000.0  "
      ]
     },
     "metadata": {},
     "output_type": "display_data"
    }
   ],
   "source": [
    "# mean salaries for jobs with location\n",
    "mean_salary_df = df.groupby(['job_title', 'company_location', 'company_size'])['salary_in_usd'].mean().dropna().sort_values(ascending=False).reset_index()\n",
    "top_10 = mean_salary_df.head(10)\n",
    "bottom_10 = mean_salary_df.tail(10)\n",
    "\n",
    "# top 10 highest paying jobs\n",
    "display(Markdown(' ### 10 highest paying jobs'))\n",
    "display(top_10.T)\n",
    "\n",
    "# bottom 10 least paying jobs\n",
    "display(Markdown(' ### 10 least paying jobs'))\n",
    "display(bottom_10.T)"
   ]
  },
  {
   "cell_type": "markdown",
   "id": "895fe359",
   "metadata": {
    "papermill": {
     "duration": 0.00934,
     "end_time": "2023-11-14T15:38:48.384767",
     "exception": false,
     "start_time": "2023-11-14T15:38:48.375427",
     "status": "completed"
    },
    "tags": []
   },
   "source": [
    "There seem to a very high disparity in salaries with company location than company size."
   ]
  },
  {
   "cell_type": "code",
   "execution_count": 11,
   "id": "b60a168c",
   "metadata": {
    "execution": {
     "iopub.execute_input": "2023-11-14T15:38:48.409124Z",
     "iopub.status.busy": "2023-11-14T15:38:48.408043Z",
     "iopub.status.idle": "2023-11-14T15:38:48.993529Z",
     "shell.execute_reply": "2023-11-14T15:38:48.992464Z"
    },
    "papermill": {
     "duration": 0.6002,
     "end_time": "2023-11-14T15:38:48.996875",
     "exception": false,
     "start_time": "2023-11-14T15:38:48.396675",
     "status": "completed"
    },
    "tags": []
   },
   "outputs": [
    {
     "data": {
      "text/plain": [
       "Text(0.5, 0, 'Salary (USD)')"
      ]
     },
     "execution_count": 11,
     "metadata": {},
     "output_type": "execute_result"
    },
    {
     "data": {
      "image/png": "[encoded data removed]",
      "text/plain": [
       "<Figure size 1200x800 with 1 Axes>"
      ]
     },
     "metadata": {},
     "output_type": "display_data"
    }
   ],
   "source": [
    "top_10.sort_values(by='salary_in_usd').plot(x='job_title', y='salary_in_usd', kind='barh', figsize=(12, 8))\n",
    "plt.title('Top 10 Highest Paying Jobs')\n",
    "plt.ylabel('Job Title')\n",
    "plt.xlabel('Salary (USD)')\n"
   ]
  },
  {
   "cell_type": "code",
   "execution_count": 12,
   "id": "bacce968",
   "metadata": {
    "execution": {
     "iopub.execute_input": "2023-11-14T15:38:49.021974Z",
     "iopub.status.busy": "2023-11-14T15:38:49.021485Z",
     "iopub.status.idle": "2023-11-14T15:38:49.570213Z",
     "shell.execute_reply": "2023-11-14T15:38:49.568716Z"
    },
    "papermill": {
     "duration": 0.564725,
     "end_time": "2023-11-14T15:38:49.573586",
     "exception": false,
     "start_time": "2023-11-14T15:38:49.008861",
     "status": "completed"
    },
    "tags": []
   },
   "outputs": [
    {
     "data": {
      "text/plain": [
       "Text(0.5, 0, 'Salary (USD)')"
      ]
     },
     "execution_count": 12,
     "metadata": {},
     "output_type": "execute_result"
    },
    {
     "data": {
      "image/png": "[encoded data removed]",
      "text/plain": [
       "<Figure size 1200x800 with 1 Axes>"
      ]
     },
     "metadata": {},
     "output_type": "display_data"
    }
   ],
   "source": [
    "bottom_10.plot(x='job_title', y='salary_in_usd', kind='barh', figsize=(12, 8), legend=None)\n",
    "plt.title('10 Least Paying Jobs')\n",
    "plt.ylabel('Job Title')\n",
    "plt.xlabel('Salary (USD)')"
   ]
  },
  {
   "cell_type": "code",
   "execution_count": 13,
   "id": "e310280f",
   "metadata": {
    "execution": {
     "iopub.execute_input": "2023-11-14T15:38:49.599069Z",
     "iopub.status.busy": "2023-11-14T15:38:49.598563Z",
     "iopub.status.idle": "2023-11-14T15:38:50.138961Z",
     "shell.execute_reply": "2023-11-14T15:38:50.136812Z"
    },
    "papermill": {
     "duration": 0.557127,
     "end_time": "2023-11-14T15:38:50.142408",
     "exception": false,
     "start_time": "2023-11-14T15:38:49.585281",
     "status": "completed"
    },
    "tags": []
   },
   "outputs": [
    {
     "data": {
      "text/html": [
       "        <script type=\"text/javascript\">\n",
       "        window.PlotlyConfig = {MathJaxConfig: 'local'};\n",
       "        if (window.MathJax && window.MathJax.Hub && window.MathJax.Hub.Config) {window.MathJax.Hub.Config({SVG: {font: \"STIX-Web\"}});}\n",
       "        if (typeof require !== 'undefined') {\n",
       "        require.undef(\"plotly\");\n",
       "        requirejs.config({\n",
       "            paths: {\n",
       "                'plotly': ['https://cdn.plot.ly/plotly-2.25.2.min']\n",
       "            }\n",
       "        });\n",
       "        require(['plotly'], function(Plotly) {\n",
       "            window._Plotly = Plotly;\n",
       "        });\n",
       "        }\n",
       "        </script>\n",
       "        "
      ]
     },
     "metadata": {},
     "output_type": "display_data"
    },
    {
     "data": {
      "text/html": [
       "<div>                            <div id=\"bf7ed0b9-3264-435d-a0a3-21d3223499b5\" class=\"plotly-graph-div\" style=\"height:525px; width:100%;\"></div>            <script type=\"text/javascript\">                require([\"plotly\"], function(Plotly) {                    window.PLOTLYENV=window.PLOTLYENV || {};                                    if (document.getElementById(\"bf7ed0b9-3264-435d-a0a3-21d3223499b5\")) {                    Plotly.newPlot(                        \"bf7ed0b9-3264-435d-a0a3-21d3223499b5\",                        [{\"name\":\"IN\",\"x\":[\"Business Intelligence Consultant\"],\"y\":[615201.0],\"type\":\"bar\"},{\"name\":\"IL\",\"x\":[\"AI Scientist\"],\"y\":[417937.0],\"type\":\"bar\"},{\"name\":\"US\",\"x\":[\"Principal Data Scientist\",\"Data Analytics Lead\",\"Data Science Tech Lead\",\"Finance Data Analyst\",\"Managing Director Data Science\",\"Director of Data Science\"],\"y\":[416000.0,405000.0,375000.0,323905.0,300000.0,287500.0],\"type\":\"bar\"},{\"name\":\"GB\",\"x\":[\"Analytics Engineering Manager\"],\"y\":[399880.0],\"type\":\"bar\"},{\"name\":\"QA\",\"x\":[\"AI Engineer\"],\"y\":[300000.0],\"type\":\"bar\"}],                        {\"template\":{\"data\":{\"histogram2dcontour\":[{\"type\":\"histogram2dcontour\",\"colorbar\":{\"outlinewidth\":0,\"ticks\":\"\"},\"colorscale\":[[0.0,\"#0d0887\"],[0.1111111111111111,\"#46039f\"],[0.2222222222222222,\"#7201a8\"],[0.3333333333333333,\"#9c179e\"],[0.4444444444444444,\"#bd3786\"],[0.5555555555555556,\"#d8576b\"],[0.6666666666666666,\"#ed7953\"],[0.7777777777777778,\"#fb9f3a\"],[0.8888888888888888,\"#fdca26\"],[1.0,\"#f0f921\"]]}],\"choropleth\":[{\"type\":\"choropleth\",\"colorbar\":{\"outlinewidth\":0,\"ticks\":\"\"}}],\"histogram2d\":[{\"type\":\"histogram2d\",\"colorbar\":{\"outlinewidth\":0,\"ticks\":\"\"},\"colorscale\":[[0.0,\"#0d0887\"],[0.1111111111111111,\"#46039f\"],[0.2222222222222222,\"#7201a8\"],[0.3333333333333333,\"#9c179e\"],[0.4444444444444444,\"#bd3786\"],[0.5555555555555556,\"#d8576b\"],[0.6666666666666666,\"#ed7953\"],[0.7777777777777778,\"#fb9f3a\"],[0.8888888888888888,\"#fdca26\"],[1.0,\"#f0f921\"]]}],\"heatmap\":[{\"type\":\"heatmap\",\"colorbar\":{\"outlinewidth\":0,\"ticks\":\"\"},\"colorscale\":[[0.0,\"#0d0887\"],[0.1111111111111111,\"#46039f\"],[0.2222222222222222,\"#7201a8\"],[0.3333333333333333,\"#9c179e\"],[0.4444444444444444,\"#bd3786\"],[0.5555555555555556,\"#d8576b\"],[0.6666666666666666,\"#ed7953\"],[0.7777777777777778,\"#fb9f3a\"],[0.8888888888888888,\"#fdca26\"],[1.0,\"#f0f921\"]]}],\"heatmapgl\":[{\"type\":\"heatmapgl\",\"colorbar\":{\"outlinewidth\":0,\"ticks\":\"\"},\"colorscale\":[[0.0,\"#0d0887\"],[0.1111111111111111,\"#46039f\"],[0.2222222222222222,\"#7201a8\"],[0.3333333333333333,\"#9c179e\"],[0.4444444444444444,\"#bd3786\"],[0.5555555555555556,\"#d8576b\"],[0.6666666666666666,\"#ed7953\"],[0.7777777777777778,\"#fb9f3a\"],[0.8888888888888888,\"#fdca26\"],[1.0,\"#f0f921\"]]}],\"contourcarpet\":[{\"type\":\"contourcarpet\",\"colorbar\":{\"outlinewidth\":0,\"ticks\":\"\"}}],\"contour\":[{\"type\":\"contour\",\"colorbar\":{\"outlinewidth\":0,\"ticks\":\"\"},\"colorscale\":[[0.0,\"#0d0887\"],[0.1111111111111111,\"#46039f\"],[0.2222222222222222,\"#7201a8\"],[0.3333333333333333,\"#9c179e\"],[0.4444444444444444,\"#bd3786\"],[0.5555555555555556,\"#d8576b\"],[0.6666666666666666,\"#ed7953\"],[0.7777777777777778,\"#fb9f3a\"],[0.8888888888888888,\"#fdca26\"],[1.0,\"#f0f921\"]]}],\"surface\":[{\"type\":\"surface\",\"colorbar\":{\"outlinewidth\":0,\"ticks\":\"\"},\"colorscale\":[[0.0,\"#0d0887\"],[0.1111111111111111,\"#46039f\"],[0.2222222222222222,\"#7201a8\"],[0.3333333333333333,\"#9c179e\"],[0.4444444444444444,\"#bd3786\"],[0.5555555555555556,\"#d8576b\"],[0.6666666666666666,\"#ed7953\"],[0.7777777777777778,\"#fb9f3a\"],[0.8888888888888888,\"#fdca26\"],[1.0,\"#f0f921\"]]}],\"mesh3d\":[{\"type\":\"mesh3d\",\"colorbar\":{\"outlinewidth\":0,\"ticks\":\"\"}}],\"scatter\":[{\"fillpattern\":{\"fillmode\":\"overlay\",\"size\":10,\"solidity\":0.2},\"type\":\"scatter\"}],\"parcoords\":[{\"type\":\"parcoords\",\"line\":{\"colorbar\":{\"outlinewidth\":0,\"ticks\":\"\"}}}],\"scatterpolargl\":[{\"type\":\"scatterpolargl\",\"marker\":{\"colorbar\":{\"outlinewidth\":0,\"ticks\":\"\"}}}],\"bar\":[{\"error_x\":{\"color\":\"#2a3f5f\"},\"error_y\":{\"color\":\"#2a3f5f\"},\"marker\":{\"line\":{\"color\":\"#E5ECF6\",\"width\":0.5},\"pattern\":{\"fillmode\":\"overlay\",\"size\":10,\"solidity\":0.2}},\"type\":\"bar\"}],\"scattergeo\":[{\"type\":\"scattergeo\",\"marker\":{\"colorbar\":{\"outlinewidth\":0,\"ticks\":\"\"}}}],\"scatterpolar\":[{\"type\":\"scatterpolar\",\"marker\":{\"colorbar\":{\"outlinewidth\":0,\"ticks\":\"\"}}}],\"histogram\":[{\"marker\":{\"pattern\":{\"fillmode\":\"overlay\",\"size\":10,\"solidity\":0.2}},\"type\":\"histogram\"}],\"scattergl\":[{\"type\":\"scattergl\",\"marker\":{\"colorbar\":{\"outlinewidth\":0,\"ticks\":\"\"}}}],\"scatter3d\":[{\"type\":\"scatter3d\",\"line\":{\"colorbar\":{\"outlinewidth\":0,\"ticks\":\"\"}},\"marker\":{\"colorbar\":{\"outlinewidth\":0,\"ticks\":\"\"}}}],\"scattermapbox\":[{\"type\":\"scattermapbox\",\"marker\":{\"colorbar\":{\"outlinewidth\":0,\"ticks\":\"\"}}}],\"scatterternary\":[{\"type\":\"scatterternary\",\"marker\":{\"colorbar\":{\"outlinewidth\":0,\"ticks\":\"\"}}}],\"scattercarpet\":[{\"type\":\"scattercarpet\",\"marker\":{\"colorbar\":{\"outlinewidth\":0,\"ticks\":\"\"}}}],\"carpet\":[{\"aaxis\":{\"endlinecolor\":\"#2a3f5f\",\"gridcolor\":\"white\",\"linecolor\":\"white\",\"minorgridcolor\":\"white\",\"startlinecolor\":\"#2a3f5f\"},\"baxis\":{\"endlinecolor\":\"#2a3f5f\",\"gridcolor\":\"white\",\"linecolor\":\"white\",\"minorgridcolor\":\"white\",\"startlinecolor\":\"#2a3f5f\"},\"type\":\"carpet\"}],\"table\":[{\"cells\":{\"fill\":{\"color\":\"#EBF0F8\"},\"line\":{\"color\":\"white\"}},\"header\":{\"fill\":{\"color\":\"#C8D4E3\"},\"line\":{\"color\":\"white\"}},\"type\":\"table\"}],\"barpolar\":[{\"marker\":{\"line\":{\"color\":\"#E5ECF6\",\"width\":0.5},\"pattern\":{\"fillmode\":\"overlay\",\"size\":10,\"solidity\":0.2}},\"type\":\"barpolar\"}],\"pie\":[{\"automargin\":true,\"type\":\"pie\"}]},\"layout\":{\"autotypenumbers\":\"strict\",\"colorway\":[\"#636efa\",\"#EF553B\",\"#00cc96\",\"#ab63fa\",\"#FFA15A\",\"#19d3f3\",\"#FF6692\",\"#B6E880\",\"#FF97FF\",\"#FECB52\"],\"font\":{\"color\":\"#2a3f5f\"},\"hovermode\":\"closest\",\"hoverlabel\":{\"align\":\"left\"},\"paper_bgcolor\":\"white\",\"plot_bgcolor\":\"#E5ECF6\",\"polar\":{\"bgcolor\":\"#E5ECF6\",\"angularaxis\":{\"gridcolor\":\"white\",\"linecolor\":\"white\",\"ticks\":\"\"},\"radialaxis\":{\"gridcolor\":\"white\",\"linecolor\":\"white\",\"ticks\":\"\"}},\"ternary\":{\"bgcolor\":\"#E5ECF6\",\"aaxis\":{\"gridcolor\":\"white\",\"linecolor\":\"white\",\"ticks\":\"\"},\"baxis\":{\"gridcolor\":\"white\",\"linecolor\":\"white\",\"ticks\":\"\"},\"caxis\":{\"gridcolor\":\"white\",\"linecolor\":\"white\",\"ticks\":\"\"}},\"coloraxis\":{\"colorbar\":{\"outlinewidth\":0,\"ticks\":\"\"}},\"colorscale\":{\"sequential\":[[0.0,\"#0d0887\"],[0.1111111111111111,\"#46039f\"],[0.2222222222222222,\"#7201a8\"],[0.3333333333333333,\"#9c179e\"],[0.4444444444444444,\"#bd3786\"],[0.5555555555555556,\"#d8576b\"],[0.6666666666666666,\"#ed7953\"],[0.7777777777777778,\"#fb9f3a\"],[0.8888888888888888,\"#fdca26\"],[1.0,\"#f0f921\"]],\"sequentialminus\":[[0.0,\"#0d0887\"],[0.1111111111111111,\"#46039f\"],[0.2222222222222222,\"#7201a8\"],[0.3333333333333333,\"#9c179e\"],[0.4444444444444444,\"#bd3786\"],[0.5555555555555556,\"#d8576b\"],[0.6666666666666666,\"#ed7953\"],[0.7777777777777778,\"#fb9f3a\"],[0.8888888888888888,\"#fdca26\"],[1.0,\"#f0f921\"]],\"diverging\":[[0,\"#8e0152\"],[0.1,\"#c51b7d\"],[0.2,\"#de77ae\"],[0.3,\"#f1b6da\"],[0.4,\"#fde0ef\"],[0.5,\"#f7f7f7\"],[0.6,\"#e6f5d0\"],[0.7,\"#b8e186\"],[0.8,\"#7fbc41\"],[0.9,\"#4d9221\"],[1,\"#276419\"]]},\"xaxis\":{\"gridcolor\":\"white\",\"linecolor\":\"white\",\"ticks\":\"\",\"title\":{\"standoff\":15},\"zerolinecolor\":\"white\",\"automargin\":true,\"zerolinewidth\":2},\"yaxis\":{\"gridcolor\":\"white\",\"linecolor\":\"white\",\"ticks\":\"\",\"title\":{\"standoff\":15},\"zerolinecolor\":\"white\",\"automargin\":true,\"zerolinewidth\":2},\"scene\":{\"xaxis\":{\"backgroundcolor\":\"#E5ECF6\",\"gridcolor\":\"white\",\"linecolor\":\"white\",\"showbackground\":true,\"ticks\":\"\",\"zerolinecolor\":\"white\",\"gridwidth\":2},\"yaxis\":{\"backgroundcolor\":\"#E5ECF6\",\"gridcolor\":\"white\",\"linecolor\":\"white\",\"showbackground\":true,\"ticks\":\"\",\"zerolinecolor\":\"white\",\"gridwidth\":2},\"zaxis\":{\"backgroundcolor\":\"#E5ECF6\",\"gridcolor\":\"white\",\"linecolor\":\"white\",\"showbackground\":true,\"ticks\":\"\",\"zerolinecolor\":\"white\",\"gridwidth\":2}},\"shapedefaults\":{\"line\":{\"color\":\"#2a3f5f\"}},\"annotationdefaults\":{\"arrowcolor\":\"#2a3f5f\",\"arrowhead\":0,\"arrowwidth\":1},\"geo\":{\"bgcolor\":\"white\",\"landcolor\":\"#E5ECF6\",\"subunitcolor\":\"white\",\"showland\":true,\"showlakes\":true,\"lakecolor\":\"white\"},\"title\":{\"x\":0.05},\"mapbox\":{\"style\":\"light\"}}},\"xaxis\":{\"tickangle\":45,\"title\":{\"text\":\"Job Title\"}},\"barmode\":\"group\",\"title\":{\"text\":\"Top 10 Job Titles Salary Comparison by Location\"},\"yaxis\":{\"title\":{\"text\":\"Salary (USD)\"}}},                        {\"responsive\": true}                    ).then(function(){\n",
       "                            \n",
       "var gd = document.getElementById('bf7ed0b9-3264-435d-a0a3-21d3223499b5');\n",
       "var x = new MutationObserver(function (mutations, observer) {{\n",
       "        var display = window.getComputedStyle(gd).display;\n",
       "        if (!display || display === 'none') {{\n",
       "            console.log([gd, 'removed!']);\n",
       "            Plotly.purge(gd);\n",
       "            observer.disconnect();\n",
       "        }}\n",
       "}});\n",
       "\n",
       "// Listen for the removal of the full notebook cells\n",
       "var notebookContainer = gd.closest('#notebook-container');\n",
       "if (notebookContainer) {{\n",
       "    x.observe(notebookContainer, {childList: true});\n",
       "}}\n",
       "\n",
       "// Listen for the clearing of the current output cell\n",
       "var outputEl = gd.closest('.output');\n",
       "if (outputEl) {{\n",
       "    x.observe(outputEl, {childList: true});\n",
       "}}\n",
       "\n",
       "                        })                };                });            </script>        </div>"
      ]
     },
     "metadata": {},
     "output_type": "display_data"
    }
   ],
   "source": [
    "fig = go.Figure()\n",
    "for location in top_10['company_location'].unique():\n",
    "    location_info = top_10[top_10['company_location'] == location]\n",
    "    fig.add_trace(go.Bar(\n",
    "        x = location_info['job_title'],\n",
    "        y = location_info['salary_in_usd'],\n",
    "        name = location\n",
    "    ))\n",
    "fig.update_layout(\n",
    "    barmode = 'group',\n",
    "    xaxis = dict(tickangle=45),\n",
    "    title = 'Top 10 Job Titles Salary Comparison by Location',\n",
    "    xaxis_title = 'Job Title',\n",
    "    yaxis_title = 'Salary (USD)'\n",
    ")"
   ]
  },
  {
   "cell_type": "code",
   "execution_count": 14,
   "id": "fe2fcf48",
   "metadata": {
    "execution": {
     "iopub.execute_input": "2023-11-14T15:38:50.172447Z",
     "iopub.status.busy": "2023-11-14T15:38:50.171897Z",
     "iopub.status.idle": "2023-11-14T15:38:50.586875Z",
     "shell.execute_reply": "2023-11-14T15:38:50.585556Z"
    },
    "papermill": {
     "duration": 0.433406,
     "end_time": "2023-11-14T15:38:50.590217",
     "exception": false,
     "start_time": "2023-11-14T15:38:50.156811",
     "status": "completed"
    },
    "tags": []
   },
   "outputs": [
    {
     "data": {
      "text/plain": [
       "Text(0.5, 0, 'Salary (USD)')"
      ]
     },
     "execution_count": 14,
     "metadata": {},
     "output_type": "execute_result"
    },
    {
     "data": {
      "image/png": "[encoded data removed]",
      "text/plain": [
       "<Figure size 1200x800 with 1 Axes>"
      ]
     },
     "metadata": {},
     "output_type": "display_data"
    }
   ],
   "source": [
    "# experience\n",
    "exp_df = df.groupby(['experience_level'])['salary_in_usd'].mean().sort_values(ascending=False).reset_index()\n",
    "\n",
    "ax = exp_df.sort_values(by='salary_in_usd').plot(x='experience_level', y='salary_in_usd', kind='barh', figsize=(12, 8), legend = False)\n",
    "ax.tick_params(axis = 'both', which = 'both', length = 0)\n",
    "\n",
    "total_sal = exp_df['salary_in_usd'].sum()\n",
    "for idx, val in enumerate(exp_df['salary_in_usd'].sort_values()):\n",
    "    percent = (val / total_sal) * 100\n",
    "    ax.text(val, idx, f\"{percent:.2f}%\", va = 'center', fontsize = 10, color = 'black')\n",
    "    \n",
    "ax.set_facecolor('white')\n",
    "plt.title('Salary comparison with Experience Level')\n",
    "plt.ylabel('Experience Level', color = 'black')\n",
    "plt.xlabel('Salary (USD)')"
   ]
  },
  {
   "cell_type": "code",
   "execution_count": 15,
   "id": "d5480feb",
   "metadata": {
    "execution": {
     "iopub.execute_input": "2023-11-14T15:38:50.621939Z",
     "iopub.status.busy": "2023-11-14T15:38:50.621031Z",
     "iopub.status.idle": "2023-11-14T15:38:50.681941Z",
     "shell.execute_reply": "2023-11-14T15:38:50.680361Z"
    },
    "papermill": {
     "duration": 0.080124,
     "end_time": "2023-11-14T15:38:50.685376",
     "exception": false,
     "start_time": "2023-11-14T15:38:50.605252",
     "status": "completed"
    },
    "tags": []
   },
   "outputs": [
    {
     "data": {
      "text/markdown": [
       "### Locations with Highest Paying Data Roles"
      ],
      "text/plain": [
       "<IPython.core.display.Markdown object>"
      ]
     },
     "metadata": {},
     "output_type": "display_data"
    },
    {
     "data": {
      "text/html": [
       "<div>\n",
       "<style scoped>\n",
       "    .dataframe tbody tr th:only-of-type {\n",
       "        vertical-align: middle;\n",
       "    }\n",
       "\n",
       "    .dataframe tbody tr th {\n",
       "        vertical-align: top;\n",
       "    }\n",
       "\n",
       "    .dataframe thead th {\n",
       "        text-align: right;\n",
       "    }\n",
       "</style>\n",
       "<table border=\"1\" class=\"dataframe\">\n",
       "  <thead>\n",
       "    <tr style=\"text-align: right;\">\n",
       "      <th></th>\n",
       "      <th>0</th>\n",
       "      <th>1</th>\n",
       "      <th>2</th>\n",
       "      <th>3</th>\n",
       "      <th>4</th>\n",
       "      <th>5</th>\n",
       "      <th>6</th>\n",
       "      <th>7</th>\n",
       "      <th>8</th>\n",
       "      <th>9</th>\n",
       "      <th>10</th>\n",
       "      <th>11</th>\n",
       "      <th>12</th>\n",
       "      <th>13</th>\n",
       "      <th>14</th>\n",
       "      <th>15</th>\n",
       "      <th>16</th>\n",
       "      <th>17</th>\n",
       "      <th>18</th>\n",
       "      <th>19</th>\n",
       "    </tr>\n",
       "  </thead>\n",
       "  <tbody>\n",
       "    <tr>\n",
       "      <th>company_location</th>\n",
       "      <td>QA</td>\n",
       "      <td>IL</td>\n",
       "      <td>PR</td>\n",
       "      <td>US</td>\n",
       "      <td>CA</td>\n",
       "      <td>SA</td>\n",
       "      <td>NZ</td>\n",
       "      <td>AU</td>\n",
       "      <td>UA</td>\n",
       "      <td>BA</td>\n",
       "      <td>IE</td>\n",
       "      <td>JP</td>\n",
       "      <td>GB</td>\n",
       "      <td>AE</td>\n",
       "      <td>IR</td>\n",
       "      <td>DZ</td>\n",
       "      <td>IQ</td>\n",
       "      <td>MU</td>\n",
       "      <td>CN</td>\n",
       "      <td>SE</td>\n",
       "    </tr>\n",
       "    <tr>\n",
       "      <th>salary_in_usd</th>\n",
       "      <td>300000.0</td>\n",
       "      <td>217332.0</td>\n",
       "      <td>167500.0</td>\n",
       "      <td>157914.37</td>\n",
       "      <td>135994.98</td>\n",
       "      <td>134999.0</td>\n",
       "      <td>125000.0</td>\n",
       "      <td>121808.41</td>\n",
       "      <td>121333.33</td>\n",
       "      <td>120000.0</td>\n",
       "      <td>115188.29</td>\n",
       "      <td>110821.62</td>\n",
       "      <td>109611.11</td>\n",
       "      <td>100000.0</td>\n",
       "      <td>100000.0</td>\n",
       "      <td>100000.0</td>\n",
       "      <td>100000.0</td>\n",
       "      <td>100000.0</td>\n",
       "      <td>100000.0</td>\n",
       "      <td>98791.33</td>\n",
       "    </tr>\n",
       "  </tbody>\n",
       "</table>\n",
       "</div>"
      ],
      "text/plain": [
       "                        0         1         2          3          4   \\\n",
       "company_location        QA        IL        PR         US         CA   \n",
       "salary_in_usd     300000.0  217332.0  167500.0  157914.37  135994.98   \n",
       "\n",
       "                        5         6          7          8         9   \\\n",
       "company_location        SA        NZ         AU         UA        BA   \n",
       "salary_in_usd     134999.0  125000.0  121808.41  121333.33  120000.0   \n",
       "\n",
       "                         10         11         12        13        14  \\\n",
       "company_location         IE         JP         GB        AE        IR   \n",
       "salary_in_usd     115188.29  110821.62  109611.11  100000.0  100000.0   \n",
       "\n",
       "                        15        16        17        18        19  \n",
       "company_location        DZ        IQ        MU        CN        SE  \n",
       "salary_in_usd     100000.0  100000.0  100000.0  100000.0  98791.33  "
      ]
     },
     "metadata": {},
     "output_type": "display_data"
    },
    {
     "data": {
      "text/markdown": [
       "\n",
       "### Locations with Least Paying Data Roles"
      ],
      "text/plain": [
       "<IPython.core.display.Markdown object>"
      ]
     },
     "metadata": {},
     "output_type": "display_data"
    },
    {
     "data": {
      "text/html": [
       "<div>\n",
       "<style scoped>\n",
       "    .dataframe tbody tr th:only-of-type {\n",
       "        vertical-align: middle;\n",
       "    }\n",
       "\n",
       "    .dataframe tbody tr th {\n",
       "        vertical-align: top;\n",
       "    }\n",
       "\n",
       "    .dataframe thead th {\n",
       "        text-align: right;\n",
       "    }\n",
       "</style>\n",
       "<table border=\"1\" class=\"dataframe\">\n",
       "  <thead>\n",
       "    <tr style=\"text-align: right;\">\n",
       "      <th></th>\n",
       "      <th>54</th>\n",
       "      <th>55</th>\n",
       "      <th>56</th>\n",
       "      <th>57</th>\n",
       "      <th>58</th>\n",
       "      <th>59</th>\n",
       "      <th>60</th>\n",
       "      <th>61</th>\n",
       "      <th>62</th>\n",
       "      <th>63</th>\n",
       "      <th>64</th>\n",
       "      <th>65</th>\n",
       "      <th>66</th>\n",
       "      <th>67</th>\n",
       "      <th>68</th>\n",
       "      <th>69</th>\n",
       "      <th>70</th>\n",
       "      <th>71</th>\n",
       "      <th>72</th>\n",
       "      <th>73</th>\n",
       "    </tr>\n",
       "  </thead>\n",
       "  <tbody>\n",
       "    <tr>\n",
       "      <th>company_location</th>\n",
       "      <td>KR</td>\n",
       "      <td>IN</td>\n",
       "      <td>EE</td>\n",
       "      <td>BS</td>\n",
       "      <td>CL</td>\n",
       "      <td>MY</td>\n",
       "      <td>ZA</td>\n",
       "      <td>ID</td>\n",
       "      <td>AS</td>\n",
       "      <td>PH</td>\n",
       "      <td>PK</td>\n",
       "      <td>MT</td>\n",
       "      <td>GH</td>\n",
       "      <td>HU</td>\n",
       "      <td>TH</td>\n",
       "      <td>EG</td>\n",
       "      <td>TR</td>\n",
       "      <td>HN</td>\n",
       "      <td>MD</td>\n",
       "      <td>EC</td>\n",
       "    </tr>\n",
       "    <tr>\n",
       "      <th>salary_in_usd</th>\n",
       "      <td>47000.0</td>\n",
       "      <td>46444.33</td>\n",
       "      <td>45993.44</td>\n",
       "      <td>45555.0</td>\n",
       "      <td>40038.0</td>\n",
       "      <td>40000.0</td>\n",
       "      <td>34482.0</td>\n",
       "      <td>34208.0</td>\n",
       "      <td>34026.5</td>\n",
       "      <td>32840.0</td>\n",
       "      <td>30000.0</td>\n",
       "      <td>28369.0</td>\n",
       "      <td>27000.0</td>\n",
       "      <td>26709.5</td>\n",
       "      <td>22971.33</td>\n",
       "      <td>22800.0</td>\n",
       "      <td>22313.6</td>\n",
       "      <td>20000.0</td>\n",
       "      <td>18000.0</td>\n",
       "      <td>16000.0</td>\n",
       "    </tr>\n",
       "  </tbody>\n",
       "</table>\n",
       "</div>"
      ],
      "text/plain": [
       "                       54        55        56       57       58       59  \\\n",
       "company_location       KR        IN        EE       BS       CL       MY   \n",
       "salary_in_usd     47000.0  46444.33  45993.44  45555.0  40038.0  40000.0   \n",
       "\n",
       "                       60       61       62       63       64       65  \\\n",
       "company_location       ZA       ID       AS       PH       PK       MT   \n",
       "salary_in_usd     34482.0  34208.0  34026.5  32840.0  30000.0  28369.0   \n",
       "\n",
       "                       66       67        68       69       70       71  \\\n",
       "company_location       GH       HU        TH       EG       TR       HN   \n",
       "salary_in_usd     27000.0  26709.5  22971.33  22800.0  22313.6  20000.0   \n",
       "\n",
       "                       72       73  \n",
       "company_location       MD       EC  \n",
       "salary_in_usd     18000.0  16000.0  "
      ]
     },
     "metadata": {},
     "output_type": "display_data"
    }
   ],
   "source": [
    "loc_df = df.groupby('company_location')['salary_in_usd'].mean().round(2).sort_values(ascending = False).reset_index()\n",
    "\n",
    "display(Markdown('### Locations with Highest Paying Data Roles'))\n",
    "display(loc_df.head(20).T)\n",
    "\n",
    "display(Markdown('\\n### Locations with Least Paying Data Roles'))\n",
    "display(loc_df.tail(20).T)"
   ]
  },
  {
   "cell_type": "code",
   "execution_count": null,
   "id": "7dcfe517",
   "metadata": {
    "papermill": {
     "duration": 0.014035,
     "end_time": "2023-11-14T15:38:50.713482",
     "exception": false,
     "start_time": "2023-11-14T15:38:50.699447",
     "status": "completed"
    },
    "tags": []
   },
   "outputs": [],
   "source": []
  }
 ],
 "metadata": {
  "kernelspec": {
   "display_name": "Python 3",
   "language": "python",
   "name": "python3"
  },
  "language_info": {
   "codemirror_mode": {
    "name": "ipython",
    "version": 3
   },
   "file_extension": ".py",
   "mimetype": "text/x-python",
   "name": "python",
   "nbconvert_exporter": "python",
   "pygments_lexer": "ipython3",
   "version": "3.10.12"
  },
  "papermill": {
   "default_parameters": {},
   "duration": 11.025441,
   "end_time": "2023-11-14T15:38:51.756689",
   "environment_variables": {},
   "exception": null,
   "input_path": "__notebook__.ipynb",
   "output_path": "__notebook__.ipynb",
   "parameters": {},
   "start_time": "2023-11-14T15:38:40.731248",
   "version": "2.4.0"
  }
 },
 "nbformat": 4,
 "nbformat_minor": 5
}
