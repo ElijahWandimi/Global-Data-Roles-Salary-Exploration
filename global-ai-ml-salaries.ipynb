{
 "cells": [
  {
   "cell_type": "code",
   "execution_count": 1,
   "id": "7f94b057",
   "metadata": {
    "_cell_guid": "b1076dfc-b9ad-4769-8c92-a6c4dae69d19",
    "_uuid": "8f2839f25d086af736a60e9eeb907d3b93b6e0e5",
    "execution": {
     "iopub.execute_input": "2023-11-13T19:39:29.642132Z",
     "iopub.status.busy": "2023-11-13T19:39:29.641731Z",
     "iopub.status.idle": "2023-11-13T19:39:31.333360Z",
     "shell.execute_reply": "2023-11-13T19:39:31.332175Z"
    },
    "papermill": {
     "duration": 1.701724,
     "end_time": "2023-11-13T19:39:31.335951",
     "exception": false,
     "start_time": "2023-11-13T19:39:29.634227",
     "status": "completed"
    },
    "tags": []
   },
   "outputs": [
    {
     "name": "stdout",
     "output_type": "stream",
     "text": [
      "/kaggle/input/global-salaries-in-ai-ml-data-science/salaries.json\n",
      "/kaggle/input/global-salaries-in-ai-ml-data-science/salaries.csv\n"
     ]
    }
   ],
   "source": [
    "# This Python 3 environment comes with many helpful analytics libraries installed\n",
    "# It is defined by the kaggle/python Docker image: https://github.com/kaggle/docker-python\n",
    "# For example, here's several helpful packages to load\n",
    "\n",
    "import numpy as np # linear algebra\n",
    "import pandas as pd # data processing, CSV file I/O (e.g. pd.read_csv)\n",
    "import matplotlib.pyplot as plt\n",
    "import seaborn as sns\n",
    "from IPython.display import Markdown\n",
    "\n",
    "%matplotlib inline\n",
    "plt.style.use('ggplot')\n",
    "\n",
    "# Input data files are available in the read-only \"../input/\" directory\n",
    "# For example, running this (by clicking run or pressing Shift+Enter) will list all files under the input directory\n",
    "\n",
    "import os\n",
    "for dirname, _, filenames in os.walk('/kaggle/input'):\n",
    "    for filename in filenames:\n",
    "        print(os.path.join(dirname, filename))\n",
    "\n",
    "# You can write up to 20GB to the current directory (/kaggle/working/) that gets preserved as output when you create a version using \"Save & Run All\" \n",
    "# You can also write temporary files to /kaggle/temp/, but they won't be saved outside of the current session"
   ]
  },
  {
   "cell_type": "markdown",
   "id": "d2727b0a",
   "metadata": {
    "papermill": {
     "duration": 0.005439,
     "end_time": "2023-11-13T19:39:31.347271",
     "exception": false,
     "start_time": "2023-11-13T19:39:31.341832",
     "status": "completed"
    },
    "tags": []
   },
   "source": [
    "#### Data Loading and Cleaning"
   ]
  },
  {
   "cell_type": "code",
   "execution_count": 2,
   "id": "73ce1ff1",
   "metadata": {
    "execution": {
     "iopub.execute_input": "2023-11-13T19:39:31.360057Z",
     "iopub.status.busy": "2023-11-13T19:39:31.359485Z",
     "iopub.status.idle": "2023-11-13T19:39:31.425954Z",
     "shell.execute_reply": "2023-11-13T19:39:31.424660Z"
    },
    "papermill": {
     "duration": 0.075799,
     "end_time": "2023-11-13T19:39:31.428483",
     "exception": false,
     "start_time": "2023-11-13T19:39:31.352684",
     "status": "completed"
    },
    "tags": []
   },
   "outputs": [
    {
     "data": {
      "text/plain": [
       "(8805, 11)"
      ]
     },
     "metadata": {},
     "output_type": "display_data"
    },
    {
     "data": {
      "text/html": [
       "<div>\n",
       "<style scoped>\n",
       "    .dataframe tbody tr th:only-of-type {\n",
       "        vertical-align: middle;\n",
       "    }\n",
       "\n",
       "    .dataframe tbody tr th {\n",
       "        vertical-align: top;\n",
       "    }\n",
       "\n",
       "    .dataframe thead th {\n",
       "        text-align: right;\n",
       "    }\n",
       "</style>\n",
       "<table border=\"1\" class=\"dataframe\">\n",
       "  <thead>\n",
       "    <tr style=\"text-align: right;\">\n",
       "      <th></th>\n",
       "      <th>work_year</th>\n",
       "      <th>experience_level</th>\n",
       "      <th>employment_type</th>\n",
       "      <th>job_title</th>\n",
       "      <th>salary</th>\n",
       "      <th>salary_currency</th>\n",
       "      <th>salary_in_usd</th>\n",
       "      <th>employee_residence</th>\n",
       "      <th>remote_ratio</th>\n",
       "      <th>company_location</th>\n",
       "      <th>company_size</th>\n",
       "    </tr>\n",
       "  </thead>\n",
       "  <tbody>\n",
       "    <tr>\n",
       "      <th>0</th>\n",
       "      <td>2023</td>\n",
       "      <td>EX</td>\n",
       "      <td>FT</td>\n",
       "      <td>Data Science Director</td>\n",
       "      <td>212000</td>\n",
       "      <td>USD</td>\n",
       "      <td>212000</td>\n",
       "      <td>US</td>\n",
       "      <td>0</td>\n",
       "      <td>US</td>\n",
       "      <td>M</td>\n",
       "    </tr>\n",
       "  </tbody>\n",
       "</table>\n",
       "</div>"
      ],
      "text/plain": [
       "   work_year experience_level employment_type              job_title  salary  \\\n",
       "0       2023               EX              FT  Data Science Director  212000   \n",
       "\n",
       "  salary_currency  salary_in_usd employee_residence  remote_ratio  \\\n",
       "0             USD         212000                 US             0   \n",
       "\n",
       "  company_location company_size  \n",
       "0               US            M  "
      ]
     },
     "execution_count": 2,
     "metadata": {},
     "output_type": "execute_result"
    }
   ],
   "source": [
    "# Read the data and show the number of datapoints and a preview\n",
    "csv_file = '/kaggle/input/global-salaries-in-ai-ml-data-science/salaries.csv'\n",
    "df = pd.read_csv(csv_file)\n",
    "display(df.shape)\n",
    "df.head(1)"
   ]
  },
  {
   "cell_type": "code",
   "execution_count": 3,
   "id": "44d17c18",
   "metadata": {
    "execution": {
     "iopub.execute_input": "2023-11-13T19:39:31.442078Z",
     "iopub.status.busy": "2023-11-13T19:39:31.441668Z",
     "iopub.status.idle": "2023-11-13T19:39:31.475268Z",
     "shell.execute_reply": "2023-11-13T19:39:31.473961Z"
    },
    "papermill": {
     "duration": 0.043103,
     "end_time": "2023-11-13T19:39:31.477659",
     "exception": false,
     "start_time": "2023-11-13T19:39:31.434556",
     "status": "completed"
    },
    "tags": []
   },
   "outputs": [
    {
     "name": "stdout",
     "output_type": "stream",
     "text": [
      "<class 'pandas.core.frame.DataFrame'>\n",
      "RangeIndex: 8805 entries, 0 to 8804\n",
      "Data columns (total 11 columns):\n",
      " #   Column              Non-Null Count  Dtype \n",
      "---  ------              --------------  ----- \n",
      " 0   work_year           8805 non-null   int64 \n",
      " 1   experience_level    8805 non-null   object\n",
      " 2   employment_type     8805 non-null   object\n",
      " 3   job_title           8805 non-null   object\n",
      " 4   salary              8805 non-null   int64 \n",
      " 5   salary_currency     8805 non-null   object\n",
      " 6   salary_in_usd       8805 non-null   int64 \n",
      " 7   employee_residence  8805 non-null   object\n",
      " 8   remote_ratio        8805 non-null   int64 \n",
      " 9   company_location    8805 non-null   object\n",
      " 10  company_size        8805 non-null   object\n",
      "dtypes: int64(4), object(7)\n",
      "memory usage: 756.8+ KB\n"
     ]
    }
   ],
   "source": [
    "# get the general overview of the data\n",
    "df.info()"
   ]
  },
  {
   "cell_type": "code",
   "execution_count": 4,
   "id": "d406ed86",
   "metadata": {
    "execution": {
     "iopub.execute_input": "2023-11-13T19:39:31.491701Z",
     "iopub.status.busy": "2023-11-13T19:39:31.490879Z",
     "iopub.status.idle": "2023-11-13T19:39:31.516760Z",
     "shell.execute_reply": "2023-11-13T19:39:31.515639Z"
    },
    "papermill": {
     "duration": 0.035491,
     "end_time": "2023-11-13T19:39:31.519284",
     "exception": false,
     "start_time": "2023-11-13T19:39:31.483793",
     "status": "completed"
    },
    "tags": []
   },
   "outputs": [
    {
     "data": {
      "text/plain": [
       "0"
      ]
     },
     "metadata": {},
     "output_type": "display_data"
    }
   ],
   "source": [
    "# check for nulls\n",
    "display(df.isna().any().sum())\n",
    "\n",
    "# drop duplicates\n",
    "df.drop_duplicates(inplace=True)"
   ]
  },
  {
   "cell_type": "code",
   "execution_count": 5,
   "id": "ba8adffe",
   "metadata": {
    "execution": {
     "iopub.execute_input": "2023-11-13T19:39:31.533646Z",
     "iopub.status.busy": "2023-11-13T19:39:31.533293Z",
     "iopub.status.idle": "2023-11-13T19:39:31.549513Z",
     "shell.execute_reply": "2023-11-13T19:39:31.548481Z"
    },
    "papermill": {
     "duration": 0.026516,
     "end_time": "2023-11-13T19:39:31.552085",
     "exception": false,
     "start_time": "2023-11-13T19:39:31.525569",
     "status": "completed"
    },
    "tags": []
   },
   "outputs": [],
   "source": [
    "# convert objects to category data type\n",
    "for col in df.columns:\n",
    "    if df[col].dtype == 'O':\n",
    "        df[col] = df[col].astype('category')"
   ]
  },
  {
   "cell_type": "code",
   "execution_count": 6,
   "id": "80dc80c8",
   "metadata": {
    "execution": {
     "iopub.execute_input": "2023-11-13T19:39:31.566084Z",
     "iopub.status.busy": "2023-11-13T19:39:31.565502Z",
     "iopub.status.idle": "2023-11-13T19:39:31.574708Z",
     "shell.execute_reply": "2023-11-13T19:39:31.573782Z"
    },
    "papermill": {
     "duration": 0.018492,
     "end_time": "2023-11-13T19:39:31.576788",
     "exception": false,
     "start_time": "2023-11-13T19:39:31.558296",
     "status": "completed"
    },
    "tags": []
   },
   "outputs": [
    {
     "name": "stdout",
     "output_type": "stream",
     "text": [
      "\t experience_level >> 4 categories\n",
      "\t employment_type >> 4 categories\n",
      "\t job_title >> 124 categories\n",
      "\t salary_currency >> 22 categories\n",
      "\t employee_residence >> 86 categories\n",
      "\t company_location >> 74 categories\n",
      "\t company_size >> 3 categories\n"
     ]
    }
   ],
   "source": [
    "# number of unique values in the categories\n",
    "for col in df.columns:\n",
    "    if df[col].dtype == 'category':\n",
    "        print(f\"\\t {col} >> {df[col].nunique()} categories\")"
   ]
  },
  {
   "cell_type": "code",
   "execution_count": 7,
   "id": "090a62c4",
   "metadata": {
    "execution": {
     "iopub.execute_input": "2023-11-13T19:39:31.591221Z",
     "iopub.status.busy": "2023-11-13T19:39:31.590672Z",
     "iopub.status.idle": "2023-11-13T19:39:31.608583Z",
     "shell.execute_reply": "2023-11-13T19:39:31.607598Z"
    },
    "papermill": {
     "duration": 0.028066,
     "end_time": "2023-11-13T19:39:31.611267",
     "exception": false,
     "start_time": "2023-11-13T19:39:31.583201",
     "status": "completed"
    },
    "tags": []
   },
   "outputs": [
    {
     "data": {
      "text/html": [
       "<div>\n",
       "<style scoped>\n",
       "    .dataframe tbody tr th:only-of-type {\n",
       "        vertical-align: middle;\n",
       "    }\n",
       "\n",
       "    .dataframe tbody tr th {\n",
       "        vertical-align: top;\n",
       "    }\n",
       "\n",
       "    .dataframe thead th {\n",
       "        text-align: right;\n",
       "    }\n",
       "</style>\n",
       "<table border=\"1\" class=\"dataframe\">\n",
       "  <thead>\n",
       "    <tr style=\"text-align: right;\">\n",
       "      <th></th>\n",
       "      <th>work_year</th>\n",
       "      <th>experience_level</th>\n",
       "      <th>employment_type</th>\n",
       "      <th>job_title</th>\n",
       "      <th>salary</th>\n",
       "      <th>salary_currency</th>\n",
       "      <th>salary_in_usd</th>\n",
       "      <th>employee_residence</th>\n",
       "      <th>remote_ratio</th>\n",
       "      <th>company_location</th>\n",
       "      <th>company_size</th>\n",
       "    </tr>\n",
       "  </thead>\n",
       "  <tbody>\n",
       "    <tr>\n",
       "      <th>8803</th>\n",
       "      <td>2020</td>\n",
       "      <td>EN</td>\n",
       "      <td>CT</td>\n",
       "      <td>Business Data Analyst</td>\n",
       "      <td>100000</td>\n",
       "      <td>USD</td>\n",
       "      <td>100000</td>\n",
       "      <td>US</td>\n",
       "      <td>100</td>\n",
       "      <td>US</td>\n",
       "      <td>L</td>\n",
       "    </tr>\n",
       "    <tr>\n",
       "      <th>8804</th>\n",
       "      <td>2021</td>\n",
       "      <td>SE</td>\n",
       "      <td>FT</td>\n",
       "      <td>Data Science Manager</td>\n",
       "      <td>7000000</td>\n",
       "      <td>INR</td>\n",
       "      <td>94665</td>\n",
       "      <td>IN</td>\n",
       "      <td>50</td>\n",
       "      <td>IN</td>\n",
       "      <td>L</td>\n",
       "    </tr>\n",
       "  </tbody>\n",
       "</table>\n",
       "</div>"
      ],
      "text/plain": [
       "      work_year experience_level employment_type              job_title  \\\n",
       "8803       2020               EN              CT  Business Data Analyst   \n",
       "8804       2021               SE              FT   Data Science Manager   \n",
       "\n",
       "       salary salary_currency  salary_in_usd employee_residence  remote_ratio  \\\n",
       "8803   100000             USD         100000                 US           100   \n",
       "8804  7000000             INR          94665                 IN            50   \n",
       "\n",
       "     company_location company_size  \n",
       "8803               US            L  \n",
       "8804               IN            L  "
      ]
     },
     "execution_count": 7,
     "metadata": {},
     "output_type": "execute_result"
    }
   ],
   "source": [
    "df.tail(2)"
   ]
  },
  {
   "cell_type": "markdown",
   "id": "33f95ef6",
   "metadata": {
    "papermill": {
     "duration": 0.00623,
     "end_time": "2023-11-13T19:39:31.624074",
     "exception": false,
     "start_time": "2023-11-13T19:39:31.617844",
     "status": "completed"
    },
    "tags": []
   },
   "source": [
    "#### Analysis"
   ]
  },
  {
   "cell_type": "code",
   "execution_count": 8,
   "id": "9c6c3826",
   "metadata": {
    "execution": {
     "iopub.execute_input": "2023-11-13T19:39:31.639011Z",
     "iopub.status.busy": "2023-11-13T19:39:31.638589Z",
     "iopub.status.idle": "2023-11-13T19:39:31.643750Z",
     "shell.execute_reply": "2023-11-13T19:39:31.643008Z"
    },
    "papermill": {
     "duration": 0.015088,
     "end_time": "2023-11-13T19:39:31.645815",
     "exception": false,
     "start_time": "2023-11-13T19:39:31.630727",
     "status": "completed"
    },
    "tags": []
   },
   "outputs": [],
   "source": [
    "# util functions\n",
    "def get_value_range(col: str):\n",
    "    \"\"\"\n",
    "    params: col: str - the column name\n",
    "    return: an f-string of the min and max values of the column\n",
    "    \"\"\"\n",
    "    return f\"{df[col].min()} - {df[col].max()}\""
   ]
  },
  {
   "cell_type": "code",
   "execution_count": 9,
   "id": "93ebf183",
   "metadata": {
    "execution": {
     "iopub.execute_input": "2023-11-13T19:39:31.660269Z",
     "iopub.status.busy": "2023-11-13T19:39:31.659860Z",
     "iopub.status.idle": "2023-11-13T19:39:31.666514Z",
     "shell.execute_reply": "2023-11-13T19:39:31.665213Z"
    },
    "papermill": {
     "duration": 0.016323,
     "end_time": "2023-11-13T19:39:31.668610",
     "exception": false,
     "start_time": "2023-11-13T19:39:31.652287",
     "status": "completed"
    },
    "tags": []
   },
   "outputs": [
    {
     "name": "stdout",
     "output_type": "stream",
     "text": [
      "Years: 2020 - 2023 \n",
      "Salary (USD): 15000 - 615201\n"
     ]
    }
   ],
   "source": [
    "# year range, salary range (USD)\n",
    "print(f\"Years: {get_value_range('work_year')} \\nSalary (USD): {get_value_range('salary_in_usd')}\")"
   ]
  },
  {
   "cell_type": "code",
   "execution_count": 10,
   "id": "d03b677c",
   "metadata": {
    "execution": {
     "iopub.execute_input": "2023-11-13T19:39:31.683519Z",
     "iopub.status.busy": "2023-11-13T19:39:31.683169Z",
     "iopub.status.idle": "2023-11-13T19:39:31.736094Z",
     "shell.execute_reply": "2023-11-13T19:39:31.735060Z"
    },
    "papermill": {
     "duration": 0.06328,
     "end_time": "2023-11-13T19:39:31.738533",
     "exception": false,
     "start_time": "2023-11-13T19:39:31.675253",
     "status": "completed"
    },
    "tags": []
   },
   "outputs": [
    {
     "data": {
      "text/markdown": [
       " ### 10 highest paying jobs"
      ],
      "text/plain": [
       "<IPython.core.display.Markdown object>"
      ]
     },
     "metadata": {},
     "output_type": "display_data"
    },
    {
     "data": {
      "text/html": [
       "<div>\n",
       "<style scoped>\n",
       "    .dataframe tbody tr th:only-of-type {\n",
       "        vertical-align: middle;\n",
       "    }\n",
       "\n",
       "    .dataframe tbody tr th {\n",
       "        vertical-align: top;\n",
       "    }\n",
       "\n",
       "    .dataframe thead th {\n",
       "        text-align: right;\n",
       "    }\n",
       "</style>\n",
       "<table border=\"1\" class=\"dataframe\">\n",
       "  <thead>\n",
       "    <tr style=\"text-align: right;\">\n",
       "      <th></th>\n",
       "      <th>0</th>\n",
       "      <th>1</th>\n",
       "      <th>2</th>\n",
       "      <th>3</th>\n",
       "      <th>4</th>\n",
       "      <th>5</th>\n",
       "      <th>6</th>\n",
       "      <th>7</th>\n",
       "      <th>8</th>\n",
       "      <th>9</th>\n",
       "    </tr>\n",
       "  </thead>\n",
       "  <tbody>\n",
       "    <tr>\n",
       "      <th>job_title</th>\n",
       "      <td>Business Intelligence Consultant</td>\n",
       "      <td>AI Scientist</td>\n",
       "      <td>Principal Data Scientist</td>\n",
       "      <td>Data Analytics Lead</td>\n",
       "      <td>Analytics Engineering Manager</td>\n",
       "      <td>Data Science Tech Lead</td>\n",
       "      <td>Finance Data Analyst</td>\n",
       "      <td>Managing Director Data Science</td>\n",
       "      <td>AI Engineer</td>\n",
       "      <td>Director of Data Science</td>\n",
       "    </tr>\n",
       "    <tr>\n",
       "      <th>company_location</th>\n",
       "      <td>IN</td>\n",
       "      <td>IL</td>\n",
       "      <td>US</td>\n",
       "      <td>US</td>\n",
       "      <td>GB</td>\n",
       "      <td>US</td>\n",
       "      <td>US</td>\n",
       "      <td>US</td>\n",
       "      <td>QA</td>\n",
       "      <td>US</td>\n",
       "    </tr>\n",
       "    <tr>\n",
       "      <th>company_size</th>\n",
       "      <td>S</td>\n",
       "      <td>L</td>\n",
       "      <td>S</td>\n",
       "      <td>L</td>\n",
       "      <td>L</td>\n",
       "      <td>L</td>\n",
       "      <td>M</td>\n",
       "      <td>L</td>\n",
       "      <td>M</td>\n",
       "      <td>L</td>\n",
       "    </tr>\n",
       "    <tr>\n",
       "      <th>salary_in_usd</th>\n",
       "      <td>615201.0</td>\n",
       "      <td>417937.0</td>\n",
       "      <td>416000.0</td>\n",
       "      <td>405000.0</td>\n",
       "      <td>399880.0</td>\n",
       "      <td>375000.0</td>\n",
       "      <td>323905.0</td>\n",
       "      <td>300000.0</td>\n",
       "      <td>300000.0</td>\n",
       "      <td>287500.0</td>\n",
       "    </tr>\n",
       "  </tbody>\n",
       "</table>\n",
       "</div>"
      ],
      "text/plain": [
       "                                                 0             1  \\\n",
       "job_title         Business Intelligence Consultant  AI Scientist   \n",
       "company_location                                IN            IL   \n",
       "company_size                                     S             L   \n",
       "salary_in_usd                             615201.0      417937.0   \n",
       "\n",
       "                                         2                    3  \\\n",
       "job_title         Principal Data Scientist  Data Analytics Lead   \n",
       "company_location                        US                   US   \n",
       "company_size                             S                    L   \n",
       "salary_in_usd                     416000.0             405000.0   \n",
       "\n",
       "                                              4                       5  \\\n",
       "job_title         Analytics Engineering Manager  Data Science Tech Lead   \n",
       "company_location                             GB                      US   \n",
       "company_size                                  L                       L   \n",
       "salary_in_usd                          399880.0                375000.0   \n",
       "\n",
       "                                     6                               7  \\\n",
       "job_title         Finance Data Analyst  Managing Director Data Science   \n",
       "company_location                    US                              US   \n",
       "company_size                         M                               L   \n",
       "salary_in_usd                 323905.0                        300000.0   \n",
       "\n",
       "                            8                         9  \n",
       "job_title         AI Engineer  Director of Data Science  \n",
       "company_location           QA                        US  \n",
       "company_size                M                         L  \n",
       "salary_in_usd        300000.0                  287500.0  "
      ]
     },
     "metadata": {},
     "output_type": "display_data"
    },
    {
     "data": {
      "text/markdown": [
       " ### 10 least paying jobs"
      ],
      "text/plain": [
       "<IPython.core.display.Markdown object>"
      ]
     },
     "metadata": {},
     "output_type": "display_data"
    },
    {
     "data": {
      "text/html": [
       "<div>\n",
       "<style scoped>\n",
       "    .dataframe tbody tr th:only-of-type {\n",
       "        vertical-align: middle;\n",
       "    }\n",
       "\n",
       "    .dataframe tbody tr th {\n",
       "        vertical-align: top;\n",
       "    }\n",
       "\n",
       "    .dataframe thead th {\n",
       "        text-align: right;\n",
       "    }\n",
       "</style>\n",
       "<table border=\"1\" class=\"dataframe\">\n",
       "  <thead>\n",
       "    <tr style=\"text-align: right;\">\n",
       "      <th></th>\n",
       "      <th>588</th>\n",
       "      <th>589</th>\n",
       "      <th>590</th>\n",
       "      <th>591</th>\n",
       "      <th>592</th>\n",
       "      <th>593</th>\n",
       "      <th>594</th>\n",
       "      <th>595</th>\n",
       "      <th>596</th>\n",
       "      <th>597</th>\n",
       "    </tr>\n",
       "  </thead>\n",
       "  <tbody>\n",
       "    <tr>\n",
       "      <th>job_title</th>\n",
       "      <td>Product Data Analyst</td>\n",
       "      <td>Data Scientist</td>\n",
       "      <td>ML Engineer</td>\n",
       "      <td>Computer Vision Engineer</td>\n",
       "      <td>Data Analyst</td>\n",
       "      <td>Data Analyst</td>\n",
       "      <td>Business Intelligence Developer</td>\n",
       "      <td>Data Analyst</td>\n",
       "      <td>Staff Data Analyst</td>\n",
       "      <td>Machine Learning Developer</td>\n",
       "    </tr>\n",
       "    <tr>\n",
       "      <th>company_location</th>\n",
       "      <td>IN</td>\n",
       "      <td>EC</td>\n",
       "      <td>DE</td>\n",
       "      <td>IN</td>\n",
       "      <td>IN</td>\n",
       "      <td>PH</td>\n",
       "      <td>GH</td>\n",
       "      <td>ID</td>\n",
       "      <td>CA</td>\n",
       "      <td>TH</td>\n",
       "    </tr>\n",
       "    <tr>\n",
       "      <th>company_size</th>\n",
       "      <td>L</td>\n",
       "      <td>L</td>\n",
       "      <td>S</td>\n",
       "      <td>M</td>\n",
       "      <td>S</td>\n",
       "      <td>L</td>\n",
       "      <td>M</td>\n",
       "      <td>L</td>\n",
       "      <td>M</td>\n",
       "      <td>L</td>\n",
       "    </tr>\n",
       "    <tr>\n",
       "      <th>salary_in_usd</th>\n",
       "      <td>16417.0</td>\n",
       "      <td>16000.0</td>\n",
       "      <td>15966.0</td>\n",
       "      <td>15897.0</td>\n",
       "      <td>15809.0</td>\n",
       "      <td>15680.0</td>\n",
       "      <td>15000.0</td>\n",
       "      <td>15000.0</td>\n",
       "      <td>15000.0</td>\n",
       "      <td>15000.0</td>\n",
       "    </tr>\n",
       "  </tbody>\n",
       "</table>\n",
       "</div>"
      ],
      "text/plain": [
       "                                   588             589          590  \\\n",
       "job_title         Product Data Analyst  Data Scientist  ML Engineer   \n",
       "company_location                    IN              EC           DE   \n",
       "company_size                         L               L            S   \n",
       "salary_in_usd                  16417.0         16000.0      15966.0   \n",
       "\n",
       "                                       591           592           593  \\\n",
       "job_title         Computer Vision Engineer  Data Analyst  Data Analyst   \n",
       "company_location                        IN            IN            PH   \n",
       "company_size                             M             S             L   \n",
       "salary_in_usd                      15897.0       15809.0       15680.0   \n",
       "\n",
       "                                              594           595  \\\n",
       "job_title         Business Intelligence Developer  Data Analyst   \n",
       "company_location                               GH            ID   \n",
       "company_size                                    M             L   \n",
       "salary_in_usd                             15000.0       15000.0   \n",
       "\n",
       "                                 596                         597  \n",
       "job_title         Staff Data Analyst  Machine Learning Developer  \n",
       "company_location                  CA                          TH  \n",
       "company_size                       M                           L  \n",
       "salary_in_usd                15000.0                     15000.0  "
      ]
     },
     "metadata": {},
     "output_type": "display_data"
    }
   ],
   "source": [
    "# mean salaries for jobs with location\n",
    "mean_salary_df = df.groupby(['job_title', 'company_location', 'company_size'])['salary_in_usd'].mean().dropna().sort_values(ascending=False).reset_index()\n",
    "top_10 = mean_salary_df.head(10)\n",
    "bottom_10 = mean_salary_df.tail(10)\n",
    "\n",
    "# top 10 highest paying jobs\n",
    "display(Markdown(' ### 10 highest paying jobs'))\n",
    "display(top_10.T)\n",
    "\n",
    "# bottom 10 least paying jobs\n",
    "display(Markdown(' ### 10 least paying jobs'))\n",
    "display(bottom_10.T)"
   ]
  },
  {
   "cell_type": "markdown",
   "id": "fedbcd3b",
   "metadata": {
    "papermill": {
     "duration": 0.00742,
     "end_time": "2023-11-13T19:39:31.753536",
     "exception": false,
     "start_time": "2023-11-13T19:39:31.746116",
     "status": "completed"
    },
    "tags": []
   },
   "source": [
    "There seem to a very high disparity in salaries with company location than company size."
   ]
  },
  {
   "cell_type": "code",
   "execution_count": 11,
   "id": "6782b9f3",
   "metadata": {
    "execution": {
     "iopub.execute_input": "2023-11-13T19:39:31.770402Z",
     "iopub.status.busy": "2023-11-13T19:39:31.770030Z",
     "iopub.status.idle": "2023-11-13T19:39:32.362899Z",
     "shell.execute_reply": "2023-11-13T19:39:32.362021Z"
    },
    "papermill": {
     "duration": 0.604125,
     "end_time": "2023-11-13T19:39:32.365310",
     "exception": false,
     "start_time": "2023-11-13T19:39:31.761185",
     "status": "completed"
    },
    "tags": []
   },
   "outputs": [
    {
     "data": {
      "text/plain": [
       "Text(0.5, 0, 'Salary (USD)')"
      ]
     },
     "execution_count": 11,
     "metadata": {},
     "output_type": "execute_result"
    },
    {
     "data": {
      "image/png": "[encoded data removed]",
      "text/plain": [
       "<Figure size 1200x800 with 1 Axes>"
      ]
     },
     "metadata": {},
     "output_type": "display_data"
    }
   ],
   "source": [
    "top_10.sort_values(by='salary_in_usd').plot(x='job_title', y='salary_in_usd', kind='barh', figsize=(12, 8))\n",
    "plt.title('Top 10 Highest Paying Jobs')\n",
    "plt.ylabel('Job Title')\n",
    "plt.xlabel('Salary (USD)')\n"
   ]
  },
  {
   "cell_type": "code",
   "execution_count": 12,
   "id": "9f215cda",
   "metadata": {
    "execution": {
     "iopub.execute_input": "2023-11-13T19:39:32.384887Z",
     "iopub.status.busy": "2023-11-13T19:39:32.384520Z",
     "iopub.status.idle": "2023-11-13T19:39:32.827362Z",
     "shell.execute_reply": "2023-11-13T19:39:32.826274Z"
    },
    "papermill": {
     "duration": 0.455593,
     "end_time": "2023-11-13T19:39:32.829744",
     "exception": false,
     "start_time": "2023-11-13T19:39:32.374151",
     "status": "completed"
    },
    "tags": []
   },
   "outputs": [
    {
     "data": {
      "text/plain": [
       "Text(0.5, 0, 'Salary (USD)')"
      ]
     },
     "execution_count": 12,
     "metadata": {},
     "output_type": "execute_result"
    },
    {
     "data": {
      "image/png": "[encoded data removed]",
      "text/plain": [
       "<Figure size 1200x800 with 1 Axes>"
      ]
     },
     "metadata": {},
     "output_type": "display_data"
    }
   ],
   "source": [
    "bottom_10.plot(x='job_title', y='salary_in_usd', kind='barh', figsize=(12, 8), legend=None)\n",
    "plt.title('10 Least Paying Jobs')\n",
    "plt.ylabel('Job Title')\n",
    "plt.xlabel('Salary (USD)')"
   ]
  },
  {
   "cell_type": "code",
   "execution_count": null,
   "id": "17dbafc9",
   "metadata": {
    "papermill": {
     "duration": 0.00942,
     "end_time": "2023-11-13T19:39:32.848850",
     "exception": false,
     "start_time": "2023-11-13T19:39:32.839430",
     "status": "completed"
    },
    "tags": []
   },
   "outputs": [],
   "source": []
  }
 ],
 "metadata": {
  "kernelspec": {
   "display_name": "Python 3",
   "language": "python",
   "name": "python3"
  },
  "language_info": {
   "codemirror_mode": {
    "name": "ipython",
    "version": 3
   },
   "file_extension": ".py",
   "mimetype": "text/x-python",
   "name": "python",
   "nbconvert_exporter": "python",
   "pygments_lexer": "ipython3",
   "version": "3.10.12"
  },
  "papermill": {
   "default_parameters": {},
   "duration": 9.389179,
   "end_time": "2023-11-13T19:39:35.684152",
   "environment_variables": {},
   "exception": null,
   "input_path": "__notebook__.ipynb",
   "output_path": "__notebook__.ipynb",
   "parameters": {},
   "start_time": "2023-11-13T19:39:26.294973",
   "version": "2.4.0"
  }
 },
 "nbformat": 4,
 "nbformat_minor": 5
}
